{
 "cells": [
  {
   "cell_type": "code",
   "execution_count": 1,
   "metadata": {},
   "outputs": [
    {
     "name": "stdout",
     "output_type": "stream",
     "text": [
      "2018-06-30 07:53:51,284 - INFO - tf_logging.py:110 - Restoring parameters from /output/rnn_log/model.ckpt-118920\n",
      "2018-06-30 07:53:51,318 - DEBUG - sample.py:45 - restore from [/output/rnn_log/model.ckpt-118920]\n",
      "2018-06-30 07:53:51,689 - DEBUG - sample.py:84 - ==============[江神子]==============\n",
      "2018-06-30 07:53:51,689 - DEBUG - sample.py:85 - 江神子UNKUNKUNKUNKUNKUNKUNKUNKUNKUNKUNKUNKUNKUNKUNKUNKUNKUNKUNK风心UNKUNKUNKUNKUNKUNKUNKUNKUNKUNKUNKUNKUNKUNKUNKUNKUNKUNKUNKUNKUNKUNKUNKUNKUNKUNKUNKUNKUNKUNKUNKUNKUNKUNKUNK白州UNKUNK回UNKUNKUNK\n",
      "2018-06-30 07:53:51,887 - DEBUG - sample.py:84 - ==============[蝶恋花]==============\n",
      "2018-06-30 07:53:51,887 - DEBUG - sample.py:85 - 蝶恋花醉UNKUNKUNKUNKUNKUNKUNKUNKUNKUNKUNKUNKUNKUNKUNKUNKUNKUNKUNKUNKUNKUNKUNKUNKUNKUNKUNKUNKUNKUNKUNKUNKUNKUNKUNKUNKUNKUNKUNKUNKUNKUNKUNKUNKUNKUNKUNKUNKUNKUNKUNKUNKUNKUNKUNKUNKUNKUNKUNKUNKUNKUNKUNK\n",
      "2018-06-30 07:53:52,082 - DEBUG - sample.py:84 - ==============[渔家傲]==============\n",
      "2018-06-30 07:53:52,083 - DEBUG - sample.py:85 - 渔家傲目外黄风密碧宫。UNKUNK明长携手供儿语。不道似风云已雨。玉肌斜舞水茫茫。吹作樱溪旧凤刀。UNKUNK减字木兰花（有落子南房）UNKUNK新阴夜暖梨云\n",
      "no emdedding\n"
     ]
    }
   ],
   "source": [
    "print('''2018-06-30 07:53:51,284 - INFO - tf_logging.py:110 - Restoring parameters from /output/rnn_log/model.ckpt-118920\n",
    "2018-06-30 07:53:51,318 - DEBUG - sample.py:45 - restore from [/output/rnn_log/model.ckpt-118920]\n",
    "2018-06-30 07:53:51,689 - DEBUG - sample.py:84 - ==============[\\u6c5f\\u795e\\u5b50]==============\n",
    "2018-06-30 07:53:51,689 - DEBUG - sample.py:85 - \\u6c5f\\u795e\\u5b50UNKUNKUNKUNKUNKUNKUNKUNKUNKUNKUNKUNKUNKUNKUNKUNKUNKUNKUNK\\u98ce\\u5fc3UNKUNKUNKUNKUNKUNKUNKUNKUNKUNKUNKUNKUNKUNKUNKUNKUNKUNKUNKUNKUNKUNKUNKUNKUNKUNKUNKUNKUNKUNKUNKUNKUNKUNKUNK\\u767d\\u5ddeUNKUNK\\u56deUNKUNKUNK\n",
    "2018-06-30 07:53:51,887 - DEBUG - sample.py:84 - ==============[\\u8776\\u604b\\u82b1]==============\n",
    "2018-06-30 07:53:51,887 - DEBUG - sample.py:85 - \\u8776\\u604b\\u82b1\\u9189UNKUNKUNKUNKUNKUNKUNKUNKUNKUNKUNKUNKUNKUNKUNKUNKUNKUNKUNKUNKUNKUNKUNKUNKUNKUNKUNKUNKUNKUNKUNKUNKUNKUNKUNKUNKUNKUNKUNKUNKUNKUNKUNKUNKUNKUNKUNKUNKUNKUNKUNKUNKUNKUNKUNKUNKUNKUNKUNKUNKUNKUNKUNK\n",
    "2018-06-30 07:53:52,082 - DEBUG - sample.py:84 - ==============[\\u6e14\\u5bb6\\u50b2]==============\n",
    "2018-06-30 07:53:52,083 - DEBUG - sample.py:85 - \\u6e14\\u5bb6\\u50b2\\u76ee\\u5916\\u9ec4\\u98ce\\u5bc6\\u78a7\\u5bab\\u3002UNKUNK\\u660e\\u957f\\u643a\\u624b\\u4f9b\\u513f\\u8bed\\u3002\\u4e0d\\u9053\\u4f3c\\u98ce\\u4e91\\u5df2\\u96e8\\u3002\\u7389\\u808c\\u659c\\u821e\\u6c34\\u832b\\u832b\\u3002\\u5439\\u4f5c\\u6a31\\u6eaa\\u65e7\\u51e4\\u5200\\u3002UNKUNK\\u51cf\\u5b57\\u6728\\u5170\\u82b1\\uff08\\u6709\\u843d\\u5b50\\u5357\\u623f\\uff09UNKUNK\\u65b0\\u9634\\u591c\\u6696\\u68a8\\u4e91\n",
    "no emdedding''')"
   ]
  },
  {
   "cell_type": "code",
   "execution_count": 2,
   "metadata": {},
   "outputs": [
    {
     "name": "stdout",
     "output_type": "stream",
     "text": [
      "2018-06-30 08:18:05,657 - DEBUG - sample.py:84 - ==============[江神子]==============\n",
      "2018-06-30 08:18:05,657 - DEBUG - sample.py:85 - 江神子时UNKUNK芙席曲。池庭人目，珠卷水烟如画。呼履狂回，雅游中年，恰是淹从旧。分付鱼犹，戎麾去，香涂三昧，领□迟及刑。帝莱上。听海岳难娱\n",
      "2018-06-30 08:18:05,853 - DEBUG - sample.py:84 - ==============[蝶恋花]==============\n",
      "2018-06-30 08:18:05,853 - DEBUG - sample.py:85 - 蝶恋花UNKUNK日月登灯静。昨夜斜山暖。碧旗香篆千秋润，无赖绿肥红细。月色钗围，宫藻美幽，酒力频被。拾数门前多少国，眼上绿、媚黄翠质。UNKUNK蹙\n",
      "2018-06-30 08:18:06,050 - DEBUG - sample.py:84 - ==============[渔家傲]==============\n",
      "2018-06-30 08:18:06,050 - DEBUG - sample.py:85 - 渔家傲处。UNKUNK新岁天真薰光彩，不学尊前别几杯。先忆连山老圣，换满插花青。UNKUNK鹧鸪天（太定齐少用韵）UNKUNK发深瑞气松光长。兰铛娱筑鲜。摘梅\n",
      "no emdedding\n"
     ]
    }
   ],
   "source": [
    "print('''2018-06-30 08:18:05,657 - DEBUG - sample.py:84 - ==============[\\u6c5f\\u795e\\u5b50]==============\n",
    "2018-06-30 08:18:05,657 - DEBUG - sample.py:85 - \\u6c5f\\u795e\\u5b50\\u65f6UNKUNK\\u8299\\u5e2d\\u66f2\\u3002\\u6c60\\u5ead\\u4eba\\u76ee\\uff0c\\u73e0\\u5377\\u6c34\\u70df\\u5982\\u753b\\u3002\\u547c\\u5c65\\u72c2\\u56de\\uff0c\\u96c5\\u6e38\\u4e2d\\u5e74\\uff0c\\u6070\\u662f\\u6df9\\u4ece\\u65e7\\u3002\\u5206\\u4ed8\\u9c7c\\u72b9\\uff0c\\u620e\\u9ebe\\u53bb\\uff0c\\u9999\\u6d82\\u4e09\\u6627\\uff0c\\u9886\\u25a1\\u8fdf\\u53ca\\u5211\\u3002\\u5e1d\\u83b1\\u4e0a\\u3002\\u542c\\u6d77\\u5cb3\\u96be\\u5a31\n",
    "2018-06-30 08:18:05,853 - DEBUG - sample.py:84 - ==============[\\u8776\\u604b\\u82b1]==============\n",
    "2018-06-30 08:18:05,853 - DEBUG - sample.py:85 - \\u8776\\u604b\\u82b1UNKUNK\\u65e5\\u6708\\u767b\\u706f\\u9759\\u3002\\u6628\\u591c\\u659c\\u5c71\\u6696\\u3002\\u78a7\\u65d7\\u9999\\u7bc6\\u5343\\u79cb\\u6da6\\uff0c\\u65e0\\u8d56\\u7eff\\u80a5\\u7ea2\\u7ec6\\u3002\\u6708\\u8272\\u9497\\u56f4\\uff0c\\u5bab\\u85fb\\u7f8e\\u5e7d\\uff0c\\u9152\\u529b\\u9891\\u88ab\\u3002\\u62fe\\u6570\\u95e8\\u524d\\u591a\\u5c11\\u56fd\\uff0c\\u773c\\u4e0a\\u7eff\\u3001\\u5a9a\\u9ec4\\u7fe0\\u8d28\\u3002UNKUNK\\u8e59\n",
    "2018-06-30 08:18:06,050 - DEBUG - sample.py:84 - ==============[\\u6e14\\u5bb6\\u50b2]==============\n",
    "2018-06-30 08:18:06,050 - DEBUG - sample.py:85 - \\u6e14\\u5bb6\\u50b2\\u5904\\u3002UNKUNK\\u65b0\\u5c81\\u5929\\u771f\\u85b0\\u5149\\u5f69\\uff0c\\u4e0d\\u5b66\\u5c0a\\u524d\\u522b\\u51e0\\u676f\\u3002\\u5148\\u5fc6\\u8fde\\u5c71\\u8001\\u5723\\uff0c\\u6362\\u6ee1\\u63d2\\u82b1\\u9752\\u3002UNKUNK\\u9e67\\u9e2a\\u5929\\uff08\\u592a\\u5b9a\\u9f50\\u5c11\\u7528\\u97f5\\uff09UNKUNK\\u53d1\\u6df1\\u745e\\u6c14\\u677e\\u5149\\u957f\\u3002\\u5170\\u94db\\u5a31\\u7b51\\u9c9c\\u3002\\u6458\\u6885\n",
    "no emdedding''')"
   ]
  },
  {
   "cell_type": "code",
   "execution_count": 3,
   "metadata": {},
   "outputs": [
    {
     "name": "stdout",
     "output_type": "stream",
     "text": [
      "2018-06-30 08:42:03,366 - DEBUG - sample.py:84 - ==============[江神子]==============\n",
      "2018-06-30 08:42:03,366 - DEBUG - sample.py:85 - 江神子UNK一望行心，杏津虽恐暗山路。错整飞鸿飞去后，渐相见、彩楼初续。草笛鸿晴，坐萧萧颍。会无据、之应有后。UNKUNK谪UNK城头两点，团巾烂辇。\n",
      "2018-06-30 08:42:03,564 - DEBUG - sample.py:84 - ==============[蝶恋花]==============\n",
      "2018-06-30 08:42:03,564 - DEBUG - sample.py:85 - 蝶恋花UNKUNK红霞红玉天阴水。宝奁扶满湖南地。满帘点翠繁花却。当窗休倚空成处。UNKUNK侧缕盈眉随时处。更歌一纸东君懒。便倩酒旗慳，直泛梅枝特目\n",
      "2018-06-30 08:42:03,757 - DEBUG - sample.py:84 - ==============[渔家傲]==============\n",
      "2018-06-30 08:42:03,758 - DEBUG - sample.py:85 - 渔家傲，余爱多小管何。UNKUNK春风透，试吟蟾。助销无用许方同。多情风袂难畏远，密浸碧罗轻眼，剩闷万般似醉，无此庙儿顽。门上腊前何，摇曳燕蓝\n",
      "no emdedding\n"
     ]
    }
   ],
   "source": [
    "print('''2018-06-30 08:42:03,366 - DEBUG - sample.py:84 - ==============[\\u6c5f\\u795e\\u5b50]==============\n",
    "2018-06-30 08:42:03,366 - DEBUG - sample.py:85 - \\u6c5f\\u795e\\u5b50UNK\\u4e00\\u671b\\u884c\\u5fc3\\uff0c\\u674f\\u6d25\\u867d\\u6050\\u6697\\u5c71\\u8def\\u3002\\u9519\\u6574\\u98de\\u9e3f\\u98de\\u53bb\\u540e\\uff0c\\u6e10\\u76f8\\u89c1\\u3001\\u5f69\\u697c\\u521d\\u7eed\\u3002\\u8349\\u7b1b\\u9e3f\\u6674\\uff0c\\u5750\\u8427\\u8427\\u988d\\u3002\\u4f1a\\u65e0\\u636e\\u3001\\u4e4b\\u5e94\\u6709\\u540e\\u3002UNKUNK\\u8c2aUNK\\u57ce\\u5934\\u4e24\\u70b9\\uff0c\\u56e2\\u5dfe\\u70c2\\u8f87\\u3002\n",
    "2018-06-30 08:42:03,564 - DEBUG - sample.py:84 - ==============[\\u8776\\u604b\\u82b1]==============\n",
    "2018-06-30 08:42:03,564 - DEBUG - sample.py:85 - \\u8776\\u604b\\u82b1UNKUNK\\u7ea2\\u971e\\u7ea2\\u7389\\u5929\\u9634\\u6c34\\u3002\\u5b9d\\u5941\\u6276\\u6ee1\\u6e56\\u5357\\u5730\\u3002\\u6ee1\\u5e18\\u70b9\\u7fe0\\u7e41\\u82b1\\u5374\\u3002\\u5f53\\u7a97\\u4f11\\u501a\\u7a7a\\u6210\\u5904\\u3002UNKUNK\\u4fa7\\u7f15\\u76c8\\u7709\\u968f\\u65f6\\u5904\\u3002\\u66f4\\u6b4c\\u4e00\\u7eb8\\u4e1c\\u541b\\u61d2\\u3002\\u4fbf\\u5029\\u9152\\u65d7\\u6173\\uff0c\\u76f4\\u6cdb\\u6885\\u679d\\u7279\\u76ee\n",
    "2018-06-30 08:42:03,757 - DEBUG - sample.py:84 - ==============[\\u6e14\\u5bb6\\u50b2]==============\n",
    "2018-06-30 08:42:03,758 - DEBUG - sample.py:85 - \\u6e14\\u5bb6\\u50b2\\uff0c\\u4f59\\u7231\\u591a\\u5c0f\\u7ba1\\u4f55\\u3002UNKUNK\\u6625\\u98ce\\u900f\\uff0c\\u8bd5\\u541f\\u87fe\\u3002\\u52a9\\u9500\\u65e0\\u7528\\u8bb8\\u65b9\\u540c\\u3002\\u591a\\u60c5\\u98ce\\u8882\\u96be\\u754f\\u8fdc\\uff0c\\u5bc6\\u6d78\\u78a7\\u7f57\\u8f7b\\u773c\\uff0c\\u5269\\u95f7\\u4e07\\u822c\\u4f3c\\u9189\\uff0c\\u65e0\\u6b64\\u5e99\\u513f\\u987d\\u3002\\u95e8\\u4e0a\\u814a\\u524d\\u4f55\\uff0c\\u6447\\u66f3\\u71d5\\u84dd\n",
    "no emdedding''')"
   ]
  },
  {
   "cell_type": "code",
   "execution_count": 4,
   "metadata": {},
   "outputs": [
    {
     "name": "stdout",
     "output_type": "stream",
     "text": [
      "2018-06-30 09:06:05,918 - DEBUG - sample.py:84 - ==============[江神子]==============\n",
      "2018-06-30 09:06:05,918 - DEBUG - sample.py:85 - 江神子UNKUNKUNKUNKUNKUNKUNKUNKUNKUNKUNKUNKUNKUNKUNKUNK自待询（用之）UNKUNK满江仙UNKUNK岸柳青纹，引棋尘皱。芹柳碧枝，课柳嫩纨柳径透重阳。茵绝下诗来一足，装\n",
      "2018-06-30 09:06:06,116 - DEBUG - sample.py:84 - ==============[蝶恋花]==============\n",
      "2018-06-30 09:06:06,116 - DEBUG - sample.py:85 - 蝶恋花UNKUNKUNKUNK应似蟠游云。不见醒谁雅韵红。似品生秋云外，几从有凉径银绡。风澹沈沈。泚晨卮酒留人露，思拥预、弹却流萤。袖两园阳小，想孤标\n",
      "2018-06-30 09:06:06,315 - DEBUG - sample.py:84 - ==============[渔家傲]==============\n",
      "2018-06-30 09:06:06,315 - DEBUG - sample.py:85 - 渔家傲月。UNKUNKUNKUNKUNKUNK刘回UNKUNK阮人UNKUNKUNKUNK道柳词名愠加长。此自说当盟。东风涤赐不如春。假笑浣溪人酒、尽频攀。UNKUNKUNKUNKUNKUNK李迹UNKUNK诸公得\n",
      "no emdedding\n"
     ]
    }
   ],
   "source": [
    "print('''2018-06-30 09:06:05,918 - DEBUG - sample.py:84 - ==============[\\u6c5f\\u795e\\u5b50]==============\n",
    "2018-06-30 09:06:05,918 - DEBUG - sample.py:85 - \\u6c5f\\u795e\\u5b50UNKUNKUNKUNKUNKUNKUNKUNKUNKUNKUNKUNKUNKUNKUNKUNK\\u81ea\\u5f85\\u8be2\\uff08\\u7528\\u4e4b\\uff09UNKUNK\\u6ee1\\u6c5f\\u4ed9UNKUNK\\u5cb8\\u67f3\\u9752\\u7eb9\\uff0c\\u5f15\\u68cb\\u5c18\\u76b1\\u3002\\u82b9\\u67f3\\u78a7\\u679d\\uff0c\\u8bfe\\u67f3\\u5ae9\\u7ea8\\u67f3\\u5f84\\u900f\\u91cd\\u9633\\u3002\\u8335\\u7edd\\u4e0b\\u8bd7\\u6765\\u4e00\\u8db3\\uff0c\\u88c5\n",
    "2018-06-30 09:06:06,116 - DEBUG - sample.py:84 - ==============[\\u8776\\u604b\\u82b1]==============\n",
    "2018-06-30 09:06:06,116 - DEBUG - sample.py:85 - \\u8776\\u604b\\u82b1UNKUNKUNKUNK\\u5e94\\u4f3c\\u87e0\\u6e38\\u4e91\\u3002\\u4e0d\\u89c1\\u9192\\u8c01\\u96c5\\u97f5\\u7ea2\\u3002\\u4f3c\\u54c1\\u751f\\u79cb\\u4e91\\u5916\\uff0c\\u51e0\\u4ece\\u6709\\u51c9\\u5f84\\u94f6\\u7ee1\\u3002\\u98ce\\u6fb9\\u6c88\\u6c88\\u3002\\u6cda\\u6668\\u536e\\u9152\\u7559\\u4eba\\u9732\\uff0c\\u601d\\u62e5\\u9884\\u3001\\u5f39\\u5374\\u6d41\\u8424\\u3002\\u8896\\u4e24\\u56ed\\u9633\\u5c0f\\uff0c\\u60f3\\u5b64\\u6807\n",
    "2018-06-30 09:06:06,315 - DEBUG - sample.py:84 - ==============[\\u6e14\\u5bb6\\u50b2]==============\n",
    "2018-06-30 09:06:06,315 - DEBUG - sample.py:85 - \\u6e14\\u5bb6\\u50b2\\u6708\\u3002UNKUNKUNKUNKUNKUNK\\u5218\\u56deUNKUNK\\u962e\\u4ebaUNKUNKUNKUNK\\u9053\\u67f3\\u8bcd\\u540d\\u6120\\u52a0\\u957f\\u3002\\u6b64\\u81ea\\u8bf4\\u5f53\\u76df\\u3002\\u4e1c\\u98ce\\u6da4\\u8d50\\u4e0d\\u5982\\u6625\\u3002\\u5047\\u7b11\\u6d63\\u6eaa\\u4eba\\u9152\\u3001\\u5c3d\\u9891\\u6500\\u3002UNKUNKUNKUNKUNKUNK\\u674e\\u8ff9UNKUNK\\u8bf8\\u516c\\u5f97\n",
    "no emdedding''')"
   ]
  },
  {
   "cell_type": "code",
   "execution_count": 5,
   "metadata": {},
   "outputs": [
    {
     "name": "stdout",
     "output_type": "stream",
     "text": [
      "2018-06-30 09:30:08,697 - DEBUG - sample.py:84 - ==============[江神子]==============\n",
      "2018-06-30 09:30:08,697 - DEBUG - sample.py:85 - 江神子梅山。UNKUNK朝中中（雪）UNKUNK更有游人雨后肌，香头皎月雕裙整。十年山影星木坞，稻滴薰风云暝靥。UNKUNK迟远。小烟枝初袂。远袖移韶降恨。时\n",
      "2018-06-30 09:30:08,889 - DEBUG - sample.py:84 - ==============[蝶恋花]==============\n",
      "2018-06-30 09:30:08,889 - DEBUG - sample.py:85 - 蝶恋花UNKUNK曾信人名多不处。欢去家云来，起笑吟拈喜。香雾寒香秋兴到。夜半听、乱光迷岸。谁识厌，酒盈鱼，两城九十十千六。UNKUNK旧时不怕愁无语\n",
      "2018-06-30 09:30:09,081 - DEBUG - sample.py:84 - ==============[渔家傲]==============\n",
      "2018-06-30 09:30:09,081 - DEBUG - sample.py:85 - 渔家傲花。UNKUNK风。玉儿低户恨寒红。倚檐留马间香薄，山围破玉人知。UNKUNK日初翦。马堪抬定倩伊荣。春深长向阻颦名。想好碧云行小事，只是意鬓面\n",
      "no emdedding\n"
     ]
    }
   ],
   "source": [
    "print('''2018-06-30 09:30:08,697 - DEBUG - sample.py:84 - ==============[\\u6c5f\\u795e\\u5b50]==============\n",
    "2018-06-30 09:30:08,697 - DEBUG - sample.py:85 - \\u6c5f\\u795e\\u5b50\\u6885\\u5c71\\u3002UNKUNK\\u671d\\u4e2d\\u4e2d\\uff08\\u96ea\\uff09UNKUNK\\u66f4\\u6709\\u6e38\\u4eba\\u96e8\\u540e\\u808c\\uff0c\\u9999\\u5934\\u768e\\u6708\\u96d5\\u88d9\\u6574\\u3002\\u5341\\u5e74\\u5c71\\u5f71\\u661f\\u6728\\u575e\\uff0c\\u7a3b\\u6ef4\\u85b0\\u98ce\\u4e91\\u669d\\u9765\\u3002UNKUNK\\u8fdf\\u8fdc\\u3002\\u5c0f\\u70df\\u679d\\u521d\\u8882\\u3002\\u8fdc\\u8896\\u79fb\\u97f6\\u964d\\u6068\\u3002\\u65f6\n",
    "2018-06-30 09:30:08,889 - DEBUG - sample.py:84 - ==============[\\u8776\\u604b\\u82b1]==============\n",
    "2018-06-30 09:30:08,889 - DEBUG - sample.py:85 - \\u8776\\u604b\\u82b1UNKUNK\\u66fe\\u4fe1\\u4eba\\u540d\\u591a\\u4e0d\\u5904\\u3002\\u6b22\\u53bb\\u5bb6\\u4e91\\u6765\\uff0c\\u8d77\\u7b11\\u541f\\u62c8\\u559c\\u3002\\u9999\\u96fe\\u5bd2\\u9999\\u79cb\\u5174\\u5230\\u3002\\u591c\\u534a\\u542c\\u3001\\u4e71\\u5149\\u8ff7\\u5cb8\\u3002\\u8c01\\u8bc6\\u538c\\uff0c\\u9152\\u76c8\\u9c7c\\uff0c\\u4e24\\u57ce\\u4e5d\\u5341\\u5341\\u5343\\u516d\\u3002UNKUNK\\u65e7\\u65f6\\u4e0d\\u6015\\u6101\\u65e0\\u8bed\n",
    "2018-06-30 09:30:09,081 - DEBUG - sample.py:84 - ==============[\\u6e14\\u5bb6\\u50b2]==============\n",
    "2018-06-30 09:30:09,081 - DEBUG - sample.py:85 - \\u6e14\\u5bb6\\u50b2\\u82b1\\u3002UNKUNK\\u98ce\\u3002\\u7389\\u513f\\u4f4e\\u6237\\u6068\\u5bd2\\u7ea2\\u3002\\u501a\\u6a90\\u7559\\u9a6c\\u95f4\\u9999\\u8584\\uff0c\\u5c71\\u56f4\\u7834\\u7389\\u4eba\\u77e5\\u3002UNKUNK\\u65e5\\u521d\\u7fe6\\u3002\\u9a6c\\u582a\\u62ac\\u5b9a\\u5029\\u4f0a\\u8363\\u3002\\u6625\\u6df1\\u957f\\u5411\\u963b\\u98a6\\u540d\\u3002\\u60f3\\u597d\\u78a7\\u4e91\\u884c\\u5c0f\\u4e8b\\uff0c\\u53ea\\u662f\\u610f\\u9b13\\u9762\n",
    "no emdedding''')"
   ]
  },
  {
   "cell_type": "code",
   "execution_count": 6,
   "metadata": {},
   "outputs": [
    {
     "name": "stdout",
     "output_type": "stream",
     "text": [
      "2018-06-30 09:53:50,438 - DEBUG - sample.py:84 - ==============[江神子]==============\n",
      "2018-06-30 09:53:50,438 - DEBUG - sample.py:85 - 江神子UNK太平宋了登河。语经星子笋微端。玉楼溪上几何人。一柱深悲修事、不应年。UNKUNK玉烛浓UNKUNK绳龙才水不家来。清照冷凉平。正秋雨驶，窗影暖\n",
      "2018-06-30 09:53:50,634 - DEBUG - sample.py:84 - ==============[蝶恋花]==============\n",
      "2018-06-30 09:53:50,634 - DEBUG - sample.py:85 - 蝶恋花UNKUNK门春事处西风去。雪霭浓，薇炬流苏江路泣。帘外小庭花旧地。锦屏争入酒惊暑。UNKUNK雨如钱、春风已照。不劳别曲，扁舟今夕。一首凄迷，\n",
      "2018-06-30 09:53:50,835 - DEBUG - sample.py:84 - ==============[渔家傲]==============\n",
      "2018-06-30 09:53:50,835 - DEBUG - sample.py:85 - 渔家傲红水寒风清处春花风。天风曾在新春色，一团人马栏。UNKUNK鹧鸪天壮劳梅因客兴，不知花外从飞别。绣衾匀。UNKUNK酒阑不见笙歌怨。乍香莺笑春为\n",
      "no emdedding\n"
     ]
    }
   ],
   "source": [
    "print('''2018-06-30 09:53:50,438 - DEBUG - sample.py:84 - ==============[\\u6c5f\\u795e\\u5b50]==============\n",
    "2018-06-30 09:53:50,438 - DEBUG - sample.py:85 - \\u6c5f\\u795e\\u5b50UNK\\u592a\\u5e73\\u5b8b\\u4e86\\u767b\\u6cb3\\u3002\\u8bed\\u7ecf\\u661f\\u5b50\\u7b0b\\u5fae\\u7aef\\u3002\\u7389\\u697c\\u6eaa\\u4e0a\\u51e0\\u4f55\\u4eba\\u3002\\u4e00\\u67f1\\u6df1\\u60b2\\u4fee\\u4e8b\\u3001\\u4e0d\\u5e94\\u5e74\\u3002UNKUNK\\u7389\\u70db\\u6d53UNKUNK\\u7ef3\\u9f99\\u624d\\u6c34\\u4e0d\\u5bb6\\u6765\\u3002\\u6e05\\u7167\\u51b7\\u51c9\\u5e73\\u3002\\u6b63\\u79cb\\u96e8\\u9a76\\uff0c\\u7a97\\u5f71\\u6696\n",
    "2018-06-30 09:53:50,634 - DEBUG - sample.py:84 - ==============[\\u8776\\u604b\\u82b1]==============\n",
    "2018-06-30 09:53:50,634 - DEBUG - sample.py:85 - \\u8776\\u604b\\u82b1UNKUNK\\u95e8\\u6625\\u4e8b\\u5904\\u897f\\u98ce\\u53bb\\u3002\\u96ea\\u972d\\u6d53\\uff0c\\u8587\\u70ac\\u6d41\\u82cf\\u6c5f\\u8def\\u6ce3\\u3002\\u5e18\\u5916\\u5c0f\\u5ead\\u82b1\\u65e7\\u5730\\u3002\\u9526\\u5c4f\\u4e89\\u5165\\u9152\\u60ca\\u6691\\u3002UNKUNK\\u96e8\\u5982\\u94b1\\u3001\\u6625\\u98ce\\u5df2\\u7167\\u3002\\u4e0d\\u52b3\\u522b\\u66f2\\uff0c\\u6241\\u821f\\u4eca\\u5915\\u3002\\u4e00\\u9996\\u51c4\\u8ff7\\uff0c\n",
    "2018-06-30 09:53:50,835 - DEBUG - sample.py:84 - ==============[\\u6e14\\u5bb6\\u50b2]==============\n",
    "2018-06-30 09:53:50,835 - DEBUG - sample.py:85 - \\u6e14\\u5bb6\\u50b2\\u7ea2\\u6c34\\u5bd2\\u98ce\\u6e05\\u5904\\u6625\\u82b1\\u98ce\\u3002\\u5929\\u98ce\\u66fe\\u5728\\u65b0\\u6625\\u8272\\uff0c\\u4e00\\u56e2\\u4eba\\u9a6c\\u680f\\u3002UNKUNK\\u9e67\\u9e2a\\u5929\\u58ee\\u52b3\\u6885\\u56e0\\u5ba2\\u5174\\uff0c\\u4e0d\\u77e5\\u82b1\\u5916\\u4ece\\u98de\\u522b\\u3002\\u7ee3\\u887e\\u5300\\u3002UNKUNK\\u9152\\u9611\\u4e0d\\u89c1\\u7b19\\u6b4c\\u6028\\u3002\\u4e4d\\u9999\\u83ba\\u7b11\\u6625\\u4e3a\n",
    "no emdedding''')"
   ]
  },
  {
   "cell_type": "code",
   "execution_count": null,
   "metadata": {},
   "outputs": [],
   "source": []
  }
 ],
 "metadata": {
  "kernelspec": {
   "display_name": "Python 3",
   "language": "python",
   "name": "python3"
  },
  "language_info": {
   "codemirror_mode": {
    "name": "ipython",
    "version": 3
   },
   "file_extension": ".py",
   "mimetype": "text/x-python",
   "name": "python",
   "nbconvert_exporter": "python",
   "pygments_lexer": "ipython3",
   "version": "3.6.4"
  }
 },
 "nbformat": 4,
 "nbformat_minor": 2
}
